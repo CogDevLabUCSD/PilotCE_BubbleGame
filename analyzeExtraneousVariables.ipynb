{
 "cells": [
  {
   "cell_type": "code",
   "execution_count": 2,
   "metadata": {},
   "outputs": [],
   "source": [
    "rm(list = ls())\n",
    "library(plyr)\n",
    "\n",
    "# Change this to your filepath\n",
    "filepath = '/Users/kjenson/Desktop/Projects/pilotCE_bubbleGame/channels/cleanData/'\n",
    "\n",
    "setwd(filepath)\n",
    "\n",
    "EEG = read.csv('CE_cleaned_clean_erp_FULL.csv')"
   ]
  },
  {
   "cell_type": "code",
   "execution_count": 10,
   "metadata": {},
   "outputs": [
    {
     "name": "stdout",
     "output_type": "stream",
     "text": [
      "[1] \"Effect of Pilot: Fz @ 400ms\"\n"
     ]
    },
    {
     "data": {
      "text/plain": [
       "            Df Sum Sq Mean Sq F value Pr(>F)\n",
       "pilot        1   5.08   5.081    2.74  0.103\n",
       "Residuals   57 105.71   1.855               "
      ]
     },
     "metadata": {},
     "output_type": "display_data"
    },
    {
     "name": "stdout",
     "output_type": "stream",
     "text": [
      "[1] \"Effect of Pilot: Fz @ 520ms\"\n"
     ]
    },
    {
     "data": {
      "text/plain": [
       "            Df Sum Sq Mean Sq F value Pr(>F)\n",
       "pilot        1   3.38   3.376   1.713  0.196\n",
       "Residuals   57 112.34   1.971               "
      ]
     },
     "metadata": {},
     "output_type": "display_data"
    },
    {
     "name": "stdout",
     "output_type": "stream",
     "text": [
      "[1] \"Effect of Pilot: Cz @ 400ms\"\n"
     ]
    },
    {
     "data": {
      "text/plain": [
       "            Df Sum Sq Mean Sq F value Pr(>F)\n",
       "pilot        1    5.7   5.669   0.941  0.336\n",
       "Residuals   57  343.6   6.027               "
      ]
     },
     "metadata": {},
     "output_type": "display_data"
    },
    {
     "name": "stdout",
     "output_type": "stream",
     "text": [
      "[1] \"Effect of Pilot: Cz @ 520ms\"\n"
     ]
    },
    {
     "data": {
      "text/plain": [
       "            Df Sum Sq Mean Sq F value Pr(>F)\n",
       "pilot        1   2.81   2.808   0.848  0.361\n",
       "Residuals   57 188.72   3.311               "
      ]
     },
     "metadata": {},
     "output_type": "display_data"
    },
    {
     "name": "stdout",
     "output_type": "stream",
     "text": [
      "[1] \"Effect of Pilot: Oz @ 400ms\"\n"
     ]
    },
    {
     "data": {
      "text/plain": [
       "            Df Sum Sq Mean Sq F value  Pr(>F)   \n",
       "pilot        1  16.52  16.518   8.035 0.00634 **\n",
       "Residuals   57 117.17   2.056                   \n",
       "---\n",
       "Signif. codes:  0 ‘***’ 0.001 ‘**’ 0.01 ‘*’ 0.05 ‘.’ 0.1 ‘ ’ 1"
      ]
     },
     "metadata": {},
     "output_type": "display_data"
    },
    {
     "name": "stdout",
     "output_type": "stream",
     "text": [
      "[1] \"Effect of Pilot: Oz @ 520ms\"\n"
     ]
    },
    {
     "data": {
      "text/plain": [
       "            Df Sum Sq Mean Sq F value Pr(>F)\n",
       "pilot        1   0.46   0.462   0.143  0.707\n",
       "Residuals   57 184.06   3.229               "
      ]
     },
     "metadata": {},
     "output_type": "display_data"
    }
   ],
   "source": [
    "##### The first thing we'll do is narrow it down to 3 electrodes, namely; Fz, Cz, and Oz\n",
    "EEG_justChannels = subset(EEG, channel_cluster == 'Fz' | channel_cluster == 'Cz' | channel_cluster == 'Oz')\n",
    "\n",
    "\n",
    "##### the first confounding variable we'll look at is pilot; is there an effect?\n",
    "## So far, nope!\n",
    "EEG_justPilot = ddply(EEG_justChannels, c('snum', 'pilot', 'channel_cluster'), 'summarize', mean400ms = mean(c390_410), sd400ms = sd(c390_410), mean520ms = mean(c500_540), sd520ms = sd(c500_540))\n",
    "\n",
    "\n",
    "## We'll first look at channel 'Fz'\n",
    "EEG_channelFz_pilot = subset(EEG_justPilot, channel_cluster == 'Fz')\n",
    "\n",
    "channelFz_pilot_400ms_aov = with(subset(EEG_channelFz_pilot ), aov(mean400ms~pilot))\n",
    "print('Effect of Pilot: Fz @ 400ms')\n",
    "summary(channelFz_pilot_400ms_aov)\n",
    "\n",
    "\n",
    "print('Effect of Pilot: Fz @ 520ms')\n",
    "channelFz_pilot_520ms_aov = with(subset(EEG_channelFz_pilot ), aov(mean520ms~pilot))\n",
    "summary(channelFz_pilot_520ms_aov)\n",
    "\n",
    "\n",
    "## Next we'll look at channel Cz\n",
    "EEG_channelCz_pilot = subset(EEG_justPilot, channel_cluster == 'Cz')\n",
    "\n",
    "channelCz_pilot_400ms_aov = with(subset(EEG_channelCz_pilot ), aov(mean400ms~pilot))\n",
    "print('Effect of Pilot: Cz @ 400ms')\n",
    "summary(channelCz_pilot_400ms_aov)\n",
    "\n",
    "channelCz_pilot_520ms_aov = with(subset(EEG_channelCz_pilot ), aov(mean520ms~pilot))\n",
    "print('Effect of Pilot: Cz @ 520ms')\n",
    "summary(channelCz_pilot_520ms_aov)\n",
    "\n",
    "## Next we'll look at channel Oz\n",
    "EEG_channelOz_pilot = subset(EEG_justPilot, channel_cluster == 'Oz')\n",
    "\n",
    "channelOz_pilot_400ms_aov = with(subset(EEG_channelOz_pilot ), aov(mean400ms~pilot))\n",
    "print('Effect of Pilot: Oz @ 400ms')\n",
    "summary(channelOz_pilot_400ms_aov)\n",
    "\n",
    "channelOz_pilot_520ms_aov = with(subset(EEG_channelOz_pilot ), aov(mean520ms~pilot))\n",
    "print('Effect of Pilot: Oz @ 520ms')\n",
    "summary(channelOz_pilot_520ms_aov)"
   ]
  },
  {
   "cell_type": "code",
   "execution_count": null,
   "metadata": {},
   "outputs": [],
   "source": [
    "## We have an effect at Oz at 400ms. "
   ]
  },
  {
   "cell_type": "code",
   "execution_count": 11,
   "metadata": {},
   "outputs": [
    {
     "name": "stdout",
     "output_type": "stream",
     "text": [
      "[1] \"Effect of Side: Fz @ 400ms\"\n"
     ]
    },
    {
     "data": {
      "text/plain": [
       "\n",
       "Error: snum\n",
       "          Df Sum Sq Mean Sq F value Pr(>F)\n",
       "Residuals 58  230.6   3.975               \n",
       "\n",
       "Error: snum:side\n",
       "          Df Sum Sq Mean Sq F value Pr(>F)\n",
       "side       1  0.301  0.3012    0.86  0.358\n",
       "Residuals 58 20.308  0.3501               "
      ]
     },
     "metadata": {},
     "output_type": "display_data"
    },
    {
     "name": "stdout",
     "output_type": "stream",
     "text": [
      "[1] \"Effect of Side: Fz @ 520ms\"\n"
     ]
    },
    {
     "data": {
      "text/plain": [
       "\n",
       "Error: snum\n",
       "          Df Sum Sq Mean Sq F value Pr(>F)\n",
       "Residuals 58  234.5   4.043               \n",
       "\n",
       "Error: snum:side\n",
       "          Df Sum Sq Mean Sq F value Pr(>F)\n",
       "side       1  0.003  0.0028   0.006  0.938\n",
       "Residuals 58 26.753  0.4613               "
      ]
     },
     "metadata": {},
     "output_type": "display_data"
    },
    {
     "name": "stdout",
     "output_type": "stream",
     "text": [
      "[1] \"Effect of Side: Cz @ 400ms\"\n"
     ]
    },
    {
     "data": {
      "text/plain": [
       "\n",
       "Error: snum\n",
       "          Df Sum Sq Mean Sq F value Pr(>F)\n",
       "Residuals 58  700.8   12.08               \n",
       "\n",
       "Error: snum:side\n",
       "          Df Sum Sq Mean Sq F value Pr(>F)\n",
       "side       1   0.00  0.0002   0.001  0.979\n",
       "Residuals 58  19.84  0.3421               "
      ]
     },
     "metadata": {},
     "output_type": "display_data"
    },
    {
     "name": "stdout",
     "output_type": "stream",
     "text": [
      "[1] \"Effect of Side: Cz @ 520ms\"\n"
     ]
    },
    {
     "data": {
      "text/plain": [
       "\n",
       "Error: snum\n",
       "          Df Sum Sq Mean Sq F value Pr(>F)\n",
       "Residuals 58  383.7   6.615               \n",
       "\n",
       "Error: snum:side\n",
       "          Df Sum Sq Mean Sq F value Pr(>F)\n",
       "side       1  0.564  0.5638   1.116  0.295\n",
       "Residuals 58 29.311  0.5054               "
      ]
     },
     "metadata": {},
     "output_type": "display_data"
    },
    {
     "name": "stdout",
     "output_type": "stream",
     "text": [
      "[1] \"Effect of Side: Oz @ 400ms\"\n"
     ]
    },
    {
     "data": {
      "text/plain": [
       "\n",
       "Error: snum\n",
       "          Df Sum Sq Mean Sq F value Pr(>F)\n",
       "Residuals 58  265.7   4.581               \n",
       "\n",
       "Error: snum:side\n",
       "          Df Sum Sq Mean Sq F value Pr(>F)\n",
       "side       1   1.94   1.938   2.023   0.16\n",
       "Residuals 58  55.56   0.958               "
      ]
     },
     "metadata": {},
     "output_type": "display_data"
    },
    {
     "name": "stdout",
     "output_type": "stream",
     "text": [
      "[1] \"Effect of Side: Oz @ 520ms\"\n"
     ]
    },
    {
     "data": {
      "text/plain": [
       "\n",
       "Error: snum\n",
       "          Df Sum Sq Mean Sq F value Pr(>F)\n",
       "Residuals 58  371.9   6.413               \n",
       "\n",
       "Error: snum:side\n",
       "          Df Sum Sq Mean Sq F value Pr(>F)\n",
       "side       1   0.03  0.0262   0.048  0.828\n",
       "Residuals 58  31.72  0.5468               "
      ]
     },
     "metadata": {},
     "output_type": "display_data"
    }
   ],
   "source": [
    "##### The next confounding variable we'll take a look at side\n",
    "\n",
    "EEG_justSide = ddply(EEG_justChannels, c('snum', 'side', 'channel_cluster'), 'summarize', mean400ms = mean(c390_410), sd400ms = sd(c390_410), mean520ms = mean(c500_540), sd520ms = sd(c500_540))\n",
    "\n",
    "## We'll first look at channel 'Fz'\n",
    "EEG_channelFz_side = subset(EEG_justSide, channel_cluster == 'Fz')\n",
    "\n",
    "channelFz_side_400ms_aov = with(subset(EEG_channelFz_side ), aov(mean400ms~side+Error(snum/side)))\n",
    "print('Effect of Side: Fz @ 400ms')\n",
    "summary(channelFz_side_400ms_aov)\n",
    "\n",
    "channelFz_side_520ms_aov = with(subset(EEG_channelFz_side ), aov(mean520ms~side+Error(snum/side)))\n",
    "print('Effect of Side: Fz @ 520ms')\n",
    "summary(channelFz_side_520ms_aov)\n",
    "\n",
    "## Next we'll look at channel Cz\n",
    "EEG_channelCz_side = subset(EEG_justSide, channel_cluster == 'Cz')\n",
    "\n",
    "channelCz_side_400ms_aov = with(subset(EEG_channelCz_side ), aov(mean400ms~side+Error(snum/side)))\n",
    "print('Effect of Side: Cz @ 400ms')\n",
    "summary(channelCz_side_400ms_aov)\n",
    "\n",
    "channelCz_side_520ms_aov = with(subset(EEG_channelCz_side ), aov(mean520ms~side+Error(snum/side)))\n",
    "print('Effect of Side: Cz @ 520ms')\n",
    "summary(channelCz_side_520ms_aov)\n",
    "\n",
    "## Next we'll look at channel Oz\n",
    "EEG_channelOz_side = subset(EEG_justSide, channel_cluster == 'Oz')\n",
    "\n",
    "channelOz_side_400ms_aov = with(subset(EEG_channelOz_side ), aov(mean400ms~side+Error(snum/side)))\n",
    "print('Effect of Side: Oz @ 400ms')\n",
    "summary(channelOz_side_400ms_aov)\n",
    "\n",
    "channelOz_side_520ms_aov = with(subset(EEG_channelOz_side ), aov(mean520ms~side+Error(snum/side)))\n",
    "print('Effect of Side: Oz @ 520ms')\n",
    "summary(channelOz_side_520ms_aov)"
   ]
  },
  {
   "cell_type": "code",
   "execution_count": null,
   "metadata": {},
   "outputs": [],
   "source": [
    "## No effects of side at any of the electrode sites"
   ]
  },
  {
   "cell_type": "code",
   "execution_count": 12,
   "metadata": {},
   "outputs": [
    {
     "name": "stdout",
     "output_type": "stream",
     "text": [
      "[1] \"Effect of Role: Fz @ 400ms\"\n"
     ]
    },
    {
     "data": {
      "text/plain": [
       "            Df Sum Sq Mean Sq F value Pr(>F)\n",
       "role         1   3.46   3.461   1.838  0.181\n",
       "Residuals   57 107.33   1.883               "
      ]
     },
     "metadata": {},
     "output_type": "display_data"
    },
    {
     "name": "stdout",
     "output_type": "stream",
     "text": [
      "[1] \"Effect of Role: Fz @ 520ms\"\n"
     ]
    },
    {
     "data": {
      "text/plain": [
       "            Df Sum Sq Mean Sq F value Pr(>F)\n",
       "role         1    0.0  0.0005       0  0.988\n",
       "Residuals   57  115.7  2.0301               "
      ]
     },
     "metadata": {},
     "output_type": "display_data"
    },
    {
     "name": "stdout",
     "output_type": "stream",
     "text": [
      "[1] \"Effect of Role: Cz @ 400ms\"\n"
     ]
    },
    {
     "data": {
      "text/plain": [
       "            Df Sum Sq Mean Sq F value Pr(>F)\n",
       "role         1    0.1   0.147   0.024  0.877\n",
       "Residuals   57  349.1   6.124               "
      ]
     },
     "metadata": {},
     "output_type": "display_data"
    },
    {
     "name": "stdout",
     "output_type": "stream",
     "text": [
      "[1] \"Effect of Role: Cz @ 520ms\"\n"
     ]
    },
    {
     "data": {
      "text/plain": [
       "            Df Sum Sq Mean Sq F value Pr(>F)\n",
       "role         1   1.09   1.091   0.327   0.57\n",
       "Residuals   57 190.44   3.341               "
      ]
     },
     "metadata": {},
     "output_type": "display_data"
    },
    {
     "name": "stdout",
     "output_type": "stream",
     "text": [
      "[1] \"Effect of Role: Oz @ 400ms\"\n"
     ]
    },
    {
     "data": {
      "text/plain": [
       "            Df Sum Sq Mean Sq F value Pr(>F)\n",
       "role         1   0.06  0.0556   0.024  0.878\n",
       "Residuals   57 133.63  2.3444               "
      ]
     },
     "metadata": {},
     "output_type": "display_data"
    },
    {
     "name": "stdout",
     "output_type": "stream",
     "text": [
      "[1] \"Effect of Role: Oz @ 520ms\"\n"
     ]
    },
    {
     "data": {
      "text/plain": [
       "            Df Sum Sq Mean Sq F value Pr(>F)\n",
       "role         1    0.7   0.701   0.217  0.643\n",
       "Residuals   57  183.8   3.225               "
      ]
     },
     "metadata": {},
     "output_type": "display_data"
    }
   ],
   "source": [
    "##### Lastly, we'll take a look at role\n",
    "EEG_justRole = ddply(EEG_justChannels, c('snum', 'role', 'channel_cluster'), 'summarize', mean400ms = mean(c390_410), sd400ms = sd(c390_410), mean520ms = mean(c500_540), sd520ms = sd(c500_540))\n",
    "\n",
    "## Again we'll look first at channel 'Fz'\n",
    "EEG_channelFz_role = subset(EEG_justRole, channel_cluster == 'Fz')\n",
    "\n",
    "channelFz_role_400ms_aov = with(subset(EEG_channelFz_role ), aov(mean400ms~role))\n",
    "print('Effect of Role: Fz @ 400ms')\n",
    "summary(channelFz_role_400ms_aov)\n",
    "\n",
    "channelFz_role_520ms_aov = with(subset(EEG_channelFz_role ), aov(mean520ms~role))\n",
    "print('Effect of Role: Fz @ 520ms')\n",
    "summary(channelFz_role_520ms_aov)\n",
    "\n",
    "## Next we'll look at channel Cz\n",
    "EEG_channelCz_role = subset(EEG_justRole, channel_cluster == 'Cz')\n",
    "\n",
    "channelCz_role_400ms_aov = with(subset(EEG_channelCz_role ), aov(mean400ms~role))\n",
    "print('Effect of Role: Cz @ 400ms')\n",
    "summary(channelCz_role_400ms_aov)\n",
    "\n",
    "channelCz_role_520ms_aov = with(subset(EEG_channelCz_role ), aov(mean520ms~role))\n",
    "print('Effect of Role: Cz @ 520ms')\n",
    "summary(channelCz_role_520ms_aov)\n",
    "\n",
    "## Next we'll look at channel Oz\n",
    "EEG_channelOz_role = subset(EEG_justRole, channel_cluster == 'Oz')\n",
    "\n",
    "channelOz_role_400ms_aov = with(subset(EEG_channelOz_role ), aov(mean400ms~role))\n",
    "print('Effect of Role: Oz @ 400ms')\n",
    "summary(channelOz_role_400ms_aov)\n",
    "\n",
    "channelOz_role_520ms_aov = with(subset(EEG_channelOz_role ), aov(mean520ms~role))\n",
    "print('Effect of Role: Oz @ 520ms')\n",
    "summary(channelOz_role_520ms_aov)"
   ]
  },
  {
   "cell_type": "code",
   "execution_count": null,
   "metadata": {},
   "outputs": [],
   "source": [
    "## Again, no effects here"
   ]
  }
 ],
 "metadata": {
  "kernelspec": {
   "display_name": "R",
   "language": "R",
   "name": "ir"
  },
  "language_info": {
   "codemirror_mode": "r",
   "file_extension": ".r",
   "mimetype": "text/x-r-source",
   "name": "R",
   "pygments_lexer": "r",
   "version": "3.4.3"
  }
 },
 "nbformat": 4,
 "nbformat_minor": 2
}
